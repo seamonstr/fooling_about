{
 "cells": [
  {
   "cell_type": "markdown",
   "id": "7952215a",
   "metadata": {},
   "source": [
    "# The Binomial Theorem - raising binomials to powers\n",
    "\n",
    "$(a+b)^2 = (a^2 + 2ab + b^2)$\n",
    "\n",
    "$(a+b)^3 = (a^3 + 3a^2b + 3ab^2 + b^3)$\n",
    "\n",
    "$(a+b)^4 = (a^4 + 4a^3b + 6a^2b^2 + 4ab^3 + b^4)$\n",
    "\n",
    "So there's a pattern.  \n",
    "\n",
    "## Variable Portion of each term\n",
    "\n",
    "If $n$ is the power we're raising the binomial to, then for each subsequent term in the resulting polynomial, the exponent of $a$ starts at $n$ and goes down to $0$, while the exponent of $b$ starts at $0$ and climbs to $n$.\n",
    "\n",
    "Also, for any $n$, you end up with a polynomial with $n + 1$ terms.\n",
    "\n",
    "So, zero-indexing the terms where $n$ is the power, and $k$ is the zero-based index of the term, each term's variable portion is:\n",
    "$$a^{n-k}b^{k}$$\n",
    "\n",
    "## Coefficients\n",
    "\n",
    "If we lay out all of the polynomials obtained by taking $a+b$ from power $0$ and up:\n",
    "$$1$$\n",
    "$$a+b$$\n",
    "$$a^2 + 2ab + b^2$$\n",
    "$$a^3 + 3a^2b + 3ab^2 + b^3$$\n",
    "$$a^4 + 4a^3b + 6a^2b^2 + 4ab^3 + b^4$$\n",
    "\n",
    "...and then extract just the coefficients, we get\n",
    "$$1$$\n",
    "$$1 1$$\n",
    "$$1 2 1$$\n",
    "$$1 3 3 1$$\n",
    "$$1 4 6 4 1$$\n",
    "\n",
    "Which is pascal's triangle.  And, taking the row of that triangle whose zero-based index is equal to the power we're after, we get the correct coefficients.\n",
    "\n",
    "## Expressing as a formula\n",
    "\n"
   ]
  }
 ],
 "metadata": {
  "kernelspec": {
   "display_name": "Python 3 (ipykernel)",
   "language": "python",
   "name": "python3"
  }
 },
 "nbformat": 4,
 "nbformat_minor": 5
}
