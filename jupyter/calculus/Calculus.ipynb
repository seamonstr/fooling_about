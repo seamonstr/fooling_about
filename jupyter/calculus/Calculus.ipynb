{
 "cells": [
  {
   "cell_type": "code",
   "execution_count": 1,
   "id": "c9f32b36",
   "metadata": {},
   "outputs": [
    {
     "name": "stdout",
     "output_type": "stream",
     "text": [
      "boo\n"
     ]
    }
   ],
   "source": [
    "print(\"boo\")"
   ]
  },
  {
   "cell_type": "markdown",
   "id": "2fdcf6d5",
   "metadata": {},
   "source": [
    "# Calculus notes\n",
    "\n",
    "## Intro\n",
    "\n",
    "Calculus: study the rate of change of quantities\n",
    "\n",
    "* Differential: \"derivative equation\" describes the rate of change of a function\n",
    "  * Find min or max value of a given function as part of an optimisation function\n",
    "  * Uses \"differentiation\" to find the derivative of a function\n",
    "    * Process of dividing something into smaller parts to track changes\n",
    "  * Derivatives used to determine the instantaneous rate of change of a function\n",
    "  * Is a function increasing or decreasing?\n",
    "\n",
    "* Integral calculus is all about finding the area under a curve\n",
    "  * Using integrals\n",
    "  * Uses \"integration\" to find the *integral* = reverse process of differentiation\n",
    "      * Sum up tiny pieces to get the total area\n",
    "  * Find areas, volumes & central points\n",
    "\n",
    "## Machine learning applications\n",
    "\n",
    "* Use arrays to represent dataset & models\n",
    "* Use derivatives for decision making, optimisation, ...\n",
    "* Gradient descent algo too\n",
    "    * Eg. model error function\n",
    "\n",
    "## Single variable calculus\n",
    "\n",
    "* Functions that take a single input -> output\n",
    "* Function = rule that connects sets:\n",
    "    * A function is a relation from a set of inputs to a set of possible outputs, where each input is related to exactly one output\n",
    "  \n",
    "* Linear functions\n",
    "    * f(x) = mx + b => linear function\n",
    "    * Input val + output val = coordinate pair\n",
    "    * The function has variables and an input value\n",
    "    * The m-value in the linear function is the gradient; b is the y intercept (cuz with x == 0, m has no effect)\n",
    "        * If m > 1, gradient is positive\n",
    "    * Gradient is constant for all points on the line\n",
    "    * Given two points on a line, $T_1(x_1,y_1),T_2(x_2,y_2)$:\n",
    "        * $m = {{y_2 - y_1} \\over {x_2 - x_1}}$ - that is, for every 1 unit change in X, how many changed in y? \n",
    "        * You can then calculate $b$ by putting in the calculated $m$ and one point ($T_1$ or $T_2$)\n",
    "        \n",
    "* Nonlinear functions\n",
    "    * Has a variable gradient; every point can have a different one (ie. if you draw a line expressing the rate of change at any given point, it will be different to other points)\n",
    "    \n",
    "## Limits\n",
    "\n",
    "* Given any point $p$ on a curve, you can choose points ever closer to it (on the left and the right) such that they approach $p$; they're at an *infinitesimal distance* from $p$\n",
    "* The limit of the function $f$ at $p$ is the value of $f$ at $p$; as you approach $p$, this value is the limit\n",
    "* For a function $f$, $\\lim\\limits_{x \\to a} f(x) = L$\n",
    "    * Values of $f(x)$ can be made arbitrarily close to $L$ by requiring that $x$ be sufficiently close to, but not equal to, $a$\n",
    "* For simple examples, it's easy. For $f(x) = 2X + 3$, the limit as $x$ approaches $3$ is $9$.\n",
    "* For others, it's harder. for $f(x) = {{x^2}\\over{1 - x}}$, there is no value of $y$ for this function when $x = 1$. \n",
    "    * As $x$ tends towards $1$ from the left, the value of the function tends towards positive infinity; as the denominator gets smaller and smaller, and the numerator gets closer and closer to $1$, the ratio between them becomes infinitely large. \n",
    "    * Similarly, as $x$ approaches one from the right, the denominator tends closer towards an infinitely small *negative* number (because $x > 1$), and so the result of the function tends towards negative infinity.\n",
    "* So, for the first example we say that $f(x)$ was a 2-sided limit: as you approach the value from left or right, the value of the function tends towards the same value. \n",
    "    * The second example has both left hand and right hand limits, and they're different: ; ie. as you approach from these directions, they tend towards a different number.\n",
    "    * Right hand limit: $\\lim\\limits_{x \\to a^+} f(x) = L$ - ie. we can make $f(x)$ as close to $L$ as we like by choosing  $x\\to{a}$ but greater than $a$.\n",
    "    * Left hand limit: $\\lim\\limits_{x \\to a^-} f(x) = L$ - ie. we can make $f(x)$ as close to $L$ as we like by choosing $x\\to{a}$ but less than $a$.\n",
    "* You only get a two-sided limit if both limits exist, and are equal.\n",
    "* In python, you can use `SymPy.limit()` to calculate limits."
   ]
  },
  {
   "cell_type": "code",
   "execution_count": null,
   "id": "f9266f04",
   "metadata": {},
   "outputs": [],
   "source": []
  }
 ],
 "metadata": {
  "kernelspec": {
   "display_name": "Python 3 (ipykernel)",
   "language": "python",
   "name": "python3"
  },
  "language_info": {
   "codemirror_mode": {
    "name": "ipython",
    "version": 3
   },
   "file_extension": ".py",
   "mimetype": "text/x-python",
   "name": "python",
   "nbconvert_exporter": "python",
   "pygments_lexer": "ipython3",
   "version": "3.10.9"
  }
 },
 "nbformat": 4,
 "nbformat_minor": 5
}
