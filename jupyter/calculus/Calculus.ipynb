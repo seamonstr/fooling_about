{
 "cells": [
  {
   "cell_type": "code",
   "execution_count": 1,
   "id": "c9f32b36",
   "metadata": {},
   "outputs": [
    {
     "name": "stdout",
     "output_type": "stream",
     "text": [
      "boo\n"
     ]
    }
   ],
   "source": [
    "print(\"boo\")"
   ]
  },
  {
   "cell_type": "markdown",
   "id": "2fdcf6d5",
   "metadata": {},
   "source": [
    "# Calculus notes\n",
    "\n",
    "## Intro\n",
    "\n",
    "Calculus: study the rate of change of quantities\n",
    "\n",
    "* Differential: \"derivative equation\" describes the rate of change of a function\n",
    "  * Find min or max value of a given function as part of an optimisation function\n",
    "  * Uses \"differentiation\" to find the derivative of a function\n",
    "    * Process of dividing something into smaller parts to track changes\n",
    "  * Derivatives used to determine the instantaneous rate of change of a function\n",
    "  * Is a function increasing or decreasing?\n",
    "\n",
    "* Integral calculus is all about finding the area under a curve\n",
    "  * Using integrals\n",
    "  * Uses \"integration\" to find the *integral* = reverse process of differentiation\n",
    "      * Sum up tiny pieces to get the total area\n",
    "  * Find areas, volumes & central points\n",
    "\n",
    "## Machine learning applications\n",
    "\n",
    "* Use arrays to represent dataset & models\n",
    "* Use derivatives for decision making, optimisation, ...\n",
    "* Gradient descent algo too\n",
    "    * Eg. model error function\n",
    "\n",
    "## Single variable calculus\n",
    "\n",
    "* Functions that take a single input -> output (ie. $f(x) = \n",
    "y$)\n",
    "* Function = rule that connects sets:\n",
    "    * A function is a relation from a set of inputs to a set of possible outputs, where each input is related to exactly one output\n",
    "  \n",
    "* Linear functions\n",
    "    * f(x) = mx + b => linear function\n",
    "    * Input val + output val = coordinate pair\n",
    "    * The function has variables and an input value\n",
    "    * The m-value in the linear function is the gradient; b is the y intercept (cuz with x == 0, m has no effect)\n",
    "        * If m > 1, gradient is positive\n",
    "    * Gradient is constant for all points on the line\n",
    "    * Given two points on a line, $T_1(x_1,y_1),T_2(x_2,y_2)$:\n",
    "        * $m = {{y_2 - y_1} \\over {x_2 - x_1}}$ - that is, for every 1 unit change in X, how many changed in y? \n",
    "        * You can then calculate $b$ by putting in the calculated $m$ and one point ($T_1$ or $T_2$)\n",
    "        \n",
    "* Nonlinear functions\n",
    "    * Has a variable gradient; every point can have a different one (ie. if you draw a line expressing the rate of change at any given point, it will be different to other points)\n",
    "    \n",
    "## Limits\n",
    "\n",
    "* Given any point $p$ on a curve, you can choose points ever closer to it (on the left and the right) such that they approach $p$; they're at an *infinitesimal distance* from $p$\n",
    "* The limit of the function $f$ at $p$ is the value of $f$ at $p$; as you approach $p$, this value is the limit\n",
    "* For a function $f$, $\\lim\\limits_{x \\to a} f(x) = L$\n",
    "    * Values of $f(x)$ can be made arbitrarily close to $L$ by requiring that $x$ be sufficiently close to, but not equal to, $a$\n",
    "* For simple examples, it's easy. For $f(x) = 2X + 3$, the limit as $x$ approaches $3$ is $9$.\n",
    "* For others, it's harder. for $f(x) = {{x^2}\\over{1 - x}}$, there is no value of $y$ for this function when $x = 1$. \n",
    "    * As $x$ tends towards $1$ from the left, the value of the function tends towards positive infinity; as the denominator gets smaller and smaller, and the numerator gets closer and closer to $1$, the ratio between them becomes infinitely large. \n",
    "    * Similarly, as $x$ approaches one from the right, the denominator tends closer towards an infinitely small *negative* number (because $x > 1$), and so the result of the function tends towards negative infinity.\n",
    "* So, for the first example we say that $f(x)$ was a 2-sided limit: as you approach the value from left or right, the value of the function tends towards the same value. \n",
    "    * The second example has both left hand and right hand limits, and they're different: ; ie. as you approach from these directions, they tend towards a different number.\n",
    "    * Right hand limit: $\\lim\\limits_{x \\to a^+} f(x) = L$ - ie. we can make $f(x)$ as close to $L$ as we like by choosing  $x\\to{a}$ but greater than $a$.\n",
    "    * Left hand limit: $\\lim\\limits_{x \\to a^-} f(x) = L$ - ie. we can make $f(x)$ as close to $L$ as we like by choosing $x\\to{a}$ but less than $a$.\n",
    "* You only get a two-sided limit if both limits exist, and are equal.\n",
    "* In python, you can use `SymPy.limit()` to calculate limits.\n",
    "\n",
    "# Intro to derivatives\n",
    "\n",
    "## Derivative function - $f'(x)$\n",
    "Given a non-linear function, you get a curve. The gradient of the curve at any given point is the gradient of the tangent to the curve at that point. This is the derivative; the slope of the line, or the instantanous rate of change.\n",
    "\n",
    "So, for any function $f(x)$, the derivative of the function at point $x = a$ is denoted as $f'(a)$ (\"f-prime of $a$\"). This function is: \n",
    "$$\\lim\\limits_{h \\to 0 } {{f(a+h) - f(a)}\\over{h}}$$\n",
    "\n",
    "Intuitively: $f(a+h) - f(a)$ is the change in $y$; $h$ is the change in $x$ over the same distance. Assuming $h$ is small enough, you'll get a reasonable approximation of $f'(x)$.\n",
    "\n",
    "Applying this to a quadratic equation of $f(x) = x^2 + 1$ where $a = 2$, you get:\n",
    "\n",
    "$$\\lim\\limits_{h\\to 0} { {(2+h)^2 + 1 - 2^2 + 1} \\over {h} }$$\n",
    "\n",
    "$$= \\lim\\limits_{h\\to 0} { {4 + 4h + h^2 + 1 - 5} \\over {h} }$$\n",
    "\n",
    "$$= \\lim\\limits_{h\\to 0} { 4 + h }$$\n",
    "\n",
    "...and as $h \\to 0$, that gives a result of $4$.\n",
    "\n",
    "## Higher-order derivatives\n",
    "\n",
    "$f(x)$ tells us the value for $y$ of each $x$ - the position.\n",
    "$f'(x)$ tells us the instantaneous rate of change of $f(x)$ for any $x$ - ie. the velocity.\n",
    "$f''(x)$ tells us the rate of change of the rate of change - ie. how has the gradient changed at that $x$? ie. the accelleration\n",
    "$f'''(x)$ tells us how the accelleration is changing at $x$ - \"whoa, we're accellerating faster!\"; like a jerk."
   ]
  },
  {
   "cell_type": "code",
   "execution_count": 2,
   "id": "f9266f04",
   "metadata": {},
   "outputs": [
    {
     "name": "stdout",
     "output_type": "stream",
     "text": [
      "This is python code!\n",
      "i is currently 1\n",
      "i is currently 2\n",
      "i is currently 3\n",
      "i is currently 4\n",
      "i is currently 5\n",
      "i is currently 6\n",
      "i is currently 7\n",
      "i is currently 8\n",
      "i is currently 9\n"
     ]
    }
   ],
   "source": []
  }
 ],
 "metadata": {
  "kernelspec": {
   "display_name": "Python 3 (ipykernel)",
   "language": "python",
   "name": "python3"
  },
  "language_info": {
   "codemirror_mode": {
    "name": "ipython",
    "version": 3
   },
   "file_extension": ".py",
   "mimetype": "text/x-python",
   "name": "python",
   "nbconvert_exporter": "python",
   "pygments_lexer": "ipython3",
   "version": "3.10.9"
  }
 },
 "nbformat": 4,
 "nbformat_minor": 5
}
