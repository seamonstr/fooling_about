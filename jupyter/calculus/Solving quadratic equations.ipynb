{
 "cells": [
  {
   "cell_type": "markdown",
   "id": "1b0bd571",
   "metadata": {},
   "source": [
    "# Completing the square\n",
    "\n",
    "Solving a quadratic equation requires a square on one side of the equals, so that you can root both sides:\n",
    "\n",
    "$ (x+2)^2 = 9$\n",
    "\n",
    "$ x + 2 = \\pm 3 $\n",
    "\n",
    "$ x = \\pm 3 - 2 $\n",
    "\n",
    "When you have a square function, you have no issue with this; you can factor it into a $ (ax + b)^2 $ form.  When you don't, you have to add something to _make_ it square - hence, completing the square.\n",
    "\n",
    "Say you have something that doesn't factor: $x^2 + 3x + 2$. What you want is to rephrase that in the form $ (x + a) ^2 = x^2 + 2ax + a^2 $, and we do that by adding the $a^2$ (disregarding the original constant for now).  \n",
    "\n",
    "The co-efficient of $x$ is $3$.  To phrase that as $2ax$, $a$ is clearly $3 \\over 2$.  So, we can make that square by adding $( {3 \\over 2} )^2$ but also subtracting it:\n",
    "\n",
    "$$ x^2 + 2 \\cdot {3 \\over 2} x + ({3 \\over 2})^2 - ({3 \\over 2})^2 + 1 $$\n",
    "\n",
    "This factorises as:\n",
    "$(x + {3 \\over 2} )^2 - ({3 \\over 2})^2 + 1 = (x + {3 \\over 2} )^2 - {5 \\over 4 } $, which is a square term."
   ]
  }
 ],
 "metadata": {
  "kernelspec": {
   "display_name": "Python 3 (ipykernel)",
   "language": "python",
   "name": "python3"
  },
  "language_info": {
   "codemirror_mode": {
    "name": "ipython",
    "version": 3
   },
   "file_extension": ".py",
   "mimetype": "text/x-python",
   "name": "python",
   "nbconvert_exporter": "python",
   "pygments_lexer": "ipython3",
   "version": "3.10.9"
  }
 },
 "nbformat": 4,
 "nbformat_minor": 5
}
